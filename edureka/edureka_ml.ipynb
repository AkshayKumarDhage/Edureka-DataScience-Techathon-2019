{
 "cells": [
  {
   "cell_type": "markdown",
   "metadata": {},
   "source": [
    "# Car Price Prediction Edureka Techathon 2019"
   ]
  },
  {
   "cell_type": "markdown",
   "metadata": {},
   "source": [
    "<img src=\"https://encrypted-tbn0.gstatic.com/images?q=tbn:ANd9GcRY5gXq0cD-5E5R1NN5jjfd4l2AaZypH9ntL09Ddciq2PWT4DcU\" width=\"1000\" height=\"500\">"
   ]
  },
  {
   "cell_type": "markdown",
   "metadata": {},
   "source": [
    "### 1. Importing the libraries"
   ]
  },
  {
   "cell_type": "code",
   "execution_count": 4,
   "metadata": {},
   "outputs": [],
   "source": [
    "# Importing the libraries\n",
    "import numpy as np \n",
    "import pandas as pd\n",
    "import matplotlib.pyplot as plt\n",
    "import seaborn as sns\n",
    "import missingno\n",
    "import matplotlib\n",
    "import sklearn\n",
    "import sys\n",
    "%matplotlib inline"
   ]
  },
  {
   "cell_type": "code",
   "execution_count": 5,
   "metadata": {},
   "outputs": [
    {
     "name": "stdout",
     "output_type": "stream",
     "text": [
      "Python 3.6.7 (default, Oct 22 2018, 11:32:17) \n",
      "[GCC 8.2.0]\n",
      "Numpy 1.17.0\n",
      "Matplotlib 3.0.3\n",
      "Pandas 0.25.0\n",
      "Sklearn 0.20.3\n"
     ]
    }
   ],
   "source": [
    "print(\"Python {}\".format(sys.version))\n",
    "print(\"Numpy {}\".format(np.__version__))\n",
    "print(\"Matplotlib {}\".format(matplotlib.__version__))\n",
    "print(\"Pandas {}\".format(pd.__version__))\n",
    "print(\"Sklearn {}\".format(sklearn.__version__))"
   ]
  },
  {
   "cell_type": "markdown",
   "metadata": {},
   "source": [
    "#### Reading data.csv file "
   ]
  },
  {
   "cell_type": "code",
   "execution_count": 36,
   "metadata": {},
   "outputs": [
    {
     "name": "stdout",
     "output_type": "stream",
     "text": [
      "shape of data = (3390, 18)\n"
     ]
    }
   ],
   "source": [
    "data = pd.read_csv('data.csv')\n",
    "print(\"shape of data = {}\".format(data.shape))"
   ]
  },
  {
   "cell_type": "code",
   "execution_count": 3,
   "metadata": {},
   "outputs": [
    {
     "data": {
      "text/html": [
       "<div>\n",
       "<style scoped>\n",
       "    .dataframe tbody tr th:only-of-type {\n",
       "        vertical-align: middle;\n",
       "    }\n",
       "\n",
       "    .dataframe tbody tr th {\n",
       "        vertical-align: top;\n",
       "    }\n",
       "\n",
       "    .dataframe thead th {\n",
       "        text-align: right;\n",
       "    }\n",
       "</style>\n",
       "<table border=\"1\" class=\"dataframe\">\n",
       "  <thead>\n",
       "    <tr style=\"text-align: right;\">\n",
       "      <th></th>\n",
       "      <th>car_company</th>\n",
       "      <th>model_ID</th>\n",
       "      <th>mileage</th>\n",
       "      <th>engine_power</th>\n",
       "      <th>registration_date</th>\n",
       "      <th>fuel</th>\n",
       "      <th>car_paint_color</th>\n",
       "      <th>car_type</th>\n",
       "      <th>feature1</th>\n",
       "      <th>feature2</th>\n",
       "      <th>feature3</th>\n",
       "      <th>feature4</th>\n",
       "      <th>feature5</th>\n",
       "      <th>feature6</th>\n",
       "      <th>feature7</th>\n",
       "      <th>feature8</th>\n",
       "      <th>sold_date</th>\n",
       "      <th>car_price</th>\n",
       "    </tr>\n",
       "  </thead>\n",
       "  <tbody>\n",
       "    <tr>\n",
       "      <th>0</th>\n",
       "      <td>Edureka_motors</td>\n",
       "      <td>318 Gran Turismo</td>\n",
       "      <td>140245</td>\n",
       "      <td>105</td>\n",
       "      <td>01-10-2014</td>\n",
       "      <td>diesel</td>\n",
       "      <td>white</td>\n",
       "      <td>hatchback</td>\n",
       "      <td>False</td>\n",
       "      <td>True</td>\n",
       "      <td>False</td>\n",
       "      <td>False</td>\n",
       "      <td>True</td>\n",
       "      <td>True</td>\n",
       "      <td>True</td>\n",
       "      <td>True</td>\n",
       "      <td>01-03-2018</td>\n",
       "      <td>19200</td>\n",
       "    </tr>\n",
       "    <tr>\n",
       "      <th>1</th>\n",
       "      <td>Edureka_motors</td>\n",
       "      <td>218 Active Tourer</td>\n",
       "      <td>91512</td>\n",
       "      <td>100</td>\n",
       "      <td>01-06-2015</td>\n",
       "      <td>petrol</td>\n",
       "      <td>white</td>\n",
       "      <td>van</td>\n",
       "      <td>False</td>\n",
       "      <td>True</td>\n",
       "      <td>True</td>\n",
       "      <td>False</td>\n",
       "      <td>False</td>\n",
       "      <td>False</td>\n",
       "      <td>True</td>\n",
       "      <td>False</td>\n",
       "      <td>01-05-2018</td>\n",
       "      <td>14300</td>\n",
       "    </tr>\n",
       "    <tr>\n",
       "      <th>2</th>\n",
       "      <td>Edureka_motors</td>\n",
       "      <td>318</td>\n",
       "      <td>113744</td>\n",
       "      <td>100</td>\n",
       "      <td>01-06-2012</td>\n",
       "      <td>diesel</td>\n",
       "      <td>grey</td>\n",
       "      <td>sedan</td>\n",
       "      <td>True</td>\n",
       "      <td>True</td>\n",
       "      <td>False</td>\n",
       "      <td>False</td>\n",
       "      <td>False</td>\n",
       "      <td>False</td>\n",
       "      <td>True</td>\n",
       "      <td>False</td>\n",
       "      <td>01-06-2018</td>\n",
       "      <td>14300</td>\n",
       "    </tr>\n",
       "    <tr>\n",
       "      <th>3</th>\n",
       "      <td>Edureka_motors</td>\n",
       "      <td>320 Gran Turismo</td>\n",
       "      <td>195063</td>\n",
       "      <td>135</td>\n",
       "      <td>01-05-2014</td>\n",
       "      <td>diesel</td>\n",
       "      <td>black</td>\n",
       "      <td>hatchback</td>\n",
       "      <td>False</td>\n",
       "      <td>True</td>\n",
       "      <td>True</td>\n",
       "      <td>False</td>\n",
       "      <td>True</td>\n",
       "      <td>False</td>\n",
       "      <td>True</td>\n",
       "      <td>True</td>\n",
       "      <td>01-03-2018</td>\n",
       "      <td>16200</td>\n",
       "    </tr>\n",
       "    <tr>\n",
       "      <th>4</th>\n",
       "      <td>Edureka_motors</td>\n",
       "      <td>518</td>\n",
       "      <td>148943</td>\n",
       "      <td>100</td>\n",
       "      <td>01-11-2013</td>\n",
       "      <td>diesel</td>\n",
       "      <td>brown</td>\n",
       "      <td>estate</td>\n",
       "      <td>True</td>\n",
       "      <td>True</td>\n",
       "      <td>True</td>\n",
       "      <td>False</td>\n",
       "      <td>True</td>\n",
       "      <td>False</td>\n",
       "      <td>True</td>\n",
       "      <td>True</td>\n",
       "      <td>01-05-2018</td>\n",
       "      <td>17300</td>\n",
       "    </tr>\n",
       "  </tbody>\n",
       "</table>\n",
       "</div>"
      ],
      "text/plain": [
       "      car_company           model_ID  mileage  engine_power registration_date  \\\n",
       "0  Edureka_motors   318 Gran Turismo   140245           105        01-10-2014   \n",
       "1  Edureka_motors  218 Active Tourer    91512           100        01-06-2015   \n",
       "2  Edureka_motors                318   113744           100        01-06-2012   \n",
       "3  Edureka_motors   320 Gran Turismo   195063           135        01-05-2014   \n",
       "4  Edureka_motors                518   148943           100        01-11-2013   \n",
       "\n",
       "     fuel car_paint_color   car_type  feature1  feature2  feature3  feature4  \\\n",
       "0  diesel           white  hatchback     False      True     False     False   \n",
       "1  petrol           white        van     False      True      True     False   \n",
       "2  diesel            grey      sedan      True      True     False     False   \n",
       "3  diesel           black  hatchback     False      True      True     False   \n",
       "4  diesel           brown     estate      True      True      True     False   \n",
       "\n",
       "   feature5  feature6  feature7  feature8   sold_date  car_price  \n",
       "0      True      True      True      True  01-03-2018      19200  \n",
       "1     False     False      True     False  01-05-2018      14300  \n",
       "2     False     False      True     False  01-06-2018      14300  \n",
       "3      True     False      True      True  01-03-2018      16200  \n",
       "4      True     False      True      True  01-05-2018      17300  "
      ]
     },
     "execution_count": 3,
     "metadata": {},
     "output_type": "execute_result"
    }
   ],
   "source": [
    "data.head()"
   ]
  },
  {
   "cell_type": "markdown",
   "metadata": {},
   "source": [
    "### 2. Exploratory Data Analysis and data conversion"
   ]
  },
  {
   "cell_type": "code",
   "execution_count": 4,
   "metadata": {},
   "outputs": [
    {
     "data": {
      "text/plain": [
       "1"
      ]
     },
     "execution_count": 4,
     "metadata": {},
     "output_type": "execute_result"
    }
   ],
   "source": [
    "len(data.car_company.unique())"
   ]
  },
  {
   "cell_type": "code",
   "execution_count": 5,
   "metadata": {},
   "outputs": [
    {
     "data": {
      "text/html": [
       "<div>\n",
       "<style scoped>\n",
       "    .dataframe tbody tr th:only-of-type {\n",
       "        vertical-align: middle;\n",
       "    }\n",
       "\n",
       "    .dataframe tbody tr th {\n",
       "        vertical-align: top;\n",
       "    }\n",
       "\n",
       "    .dataframe thead th {\n",
       "        text-align: right;\n",
       "    }\n",
       "</style>\n",
       "<table border=\"1\" class=\"dataframe\">\n",
       "  <thead>\n",
       "    <tr style=\"text-align: right;\">\n",
       "      <th></th>\n",
       "      <th>registration_date</th>\n",
       "      <th>sold_date</th>\n",
       "    </tr>\n",
       "  </thead>\n",
       "  <tbody>\n",
       "    <tr>\n",
       "      <th>0</th>\n",
       "      <td>01-10-2014</td>\n",
       "      <td>01-03-2018</td>\n",
       "    </tr>\n",
       "    <tr>\n",
       "      <th>1</th>\n",
       "      <td>01-06-2015</td>\n",
       "      <td>01-05-2018</td>\n",
       "    </tr>\n",
       "    <tr>\n",
       "      <th>2</th>\n",
       "      <td>01-06-2012</td>\n",
       "      <td>01-06-2018</td>\n",
       "    </tr>\n",
       "    <tr>\n",
       "      <th>3</th>\n",
       "      <td>01-05-2014</td>\n",
       "      <td>01-03-2018</td>\n",
       "    </tr>\n",
       "    <tr>\n",
       "      <th>4</th>\n",
       "      <td>01-11-2013</td>\n",
       "      <td>01-05-2018</td>\n",
       "    </tr>\n",
       "  </tbody>\n",
       "</table>\n",
       "</div>"
      ],
      "text/plain": [
       "  registration_date   sold_date\n",
       "0        01-10-2014  01-03-2018\n",
       "1        01-06-2015  01-05-2018\n",
       "2        01-06-2012  01-06-2018\n",
       "3        01-05-2014  01-03-2018\n",
       "4        01-11-2013  01-05-2018"
      ]
     },
     "execution_count": 5,
     "metadata": {},
     "output_type": "execute_result"
    }
   ],
   "source": [
    "data[['registration_date', 'sold_date']].head()"
   ]
  },
  {
   "cell_type": "markdown",
   "metadata": {},
   "source": [
    "### 3. FInding Missing Values if any in the given Dataset"
   ]
  },
  {
   "cell_type": "code",
   "execution_count": 37,
   "metadata": {},
   "outputs": [
    {
     "data": {
      "image/png": "[encoded data removed]",
      "text/plain": [
       "<Figure size 1800x720 with 2 Axes>"
      ]
     },
     "metadata": {
      "needs_background": "light"
     },
     "output_type": "display_data"
    },
    {
     "name": "stdout",
     "output_type": "stream",
     "text": [
      "We see that no values are missing\n"
     ]
    }
   ],
   "source": [
    "missingno.matrix(data)\n",
    "plt.show()\n",
    "\n",
    "print(\"We see that no values are missing\")"
   ]
  },
  {
   "cell_type": "markdown",
   "metadata": {},
   "source": [
    "### 4. Visualising Correlation Matrix to understand the relationship between dependent and target features."
   ]
  },
  {
   "cell_type": "code",
   "execution_count": 7,
   "metadata": {},
   "outputs": [
    {
     "data": {
      "image/png": "[encoded data removed]",
      "text/plain": [
       "<Figure size 864x720 with 2 Axes>"
      ]
     },
     "metadata": {
      "needs_background": "light"
     },
     "output_type": "display_data"
    }
   ],
   "source": [
    "fig = plt.figure(figsize = (12, 10))\n",
    "sns.heatmap(data.corr())\n",
    "plt.show()"
   ]
  },
  {
   "cell_type": "markdown",
   "metadata": {},
   "source": [
    "#### Visualising different prices for Car"
   ]
  },
  {
   "cell_type": "code",
   "execution_count": 40,
   "metadata": {
    "scrolled": false
   },
   "outputs": [
    {
     "data": {
      "image/png": "[encoded data removed]",
      "text/plain": [
       "<Figure size 1440x720 with 1 Axes>"
      ]
     },
     "metadata": {
      "needs_background": "light"
     },
     "output_type": "display_data"
    }
   ],
   "source": [
    "plt.figure(figsize = (20, 10))\n",
    "sns.countplot('car_price', data=data)\n",
    "plt.show()"
   ]
  },
  {
   "cell_type": "markdown",
   "metadata": {},
   "source": [
    "### 5. Working with different data type variables."
   ]
  },
  {
   "cell_type": "markdown",
   "metadata": {},
   "source": [
    "#### Below we see that data types available are dtypes: bool(8), int64(3), object(7)\n",
    "##### We need to convert the object type data to numerical data for model to work with."
   ]
  },
  {
   "cell_type": "code",
   "execution_count": 41,
   "metadata": {
    "scrolled": false
   },
   "outputs": [
    {
     "name": "stdout",
     "output_type": "stream",
     "text": [
      "<class 'pandas.core.frame.DataFrame'>\n",
      "RangeIndex: 3390 entries, 0 to 3389\n",
      "Data columns (total 18 columns):\n",
      "car_company          3390 non-null object\n",
      "model_ID             3390 non-null object\n",
      "mileage              3390 non-null int64\n",
      "engine_power         3390 non-null int64\n",
      "registration_date    3390 non-null object\n",
      "fuel                 3390 non-null object\n",
      "car_paint_color      3390 non-null object\n",
      "car_type             3390 non-null object\n",
      "feature1             3390 non-null bool\n",
      "feature2             3390 non-null bool\n",
      "feature3             3390 non-null bool\n",
      "feature4             3390 non-null bool\n",
      "feature5             3390 non-null bool\n",
      "feature6             3390 non-null bool\n",
      "feature7             3390 non-null bool\n",
      "feature8             3390 non-null bool\n",
      "sold_date            3390 non-null object\n",
      "car_price            3390 non-null int64\n",
      "dtypes: bool(8), int64(3), object(7)\n",
      "memory usage: 291.5+ KB\n"
     ]
    }
   ],
   "source": [
    "data.info()"
   ]
  },
  {
   "cell_type": "markdown",
   "metadata": {},
   "source": [
    "#### First working with \"date type\" values, since we have \"purchase date\" and \"selling date\" we can find the number of days in between them and call as \"used_days\""
   ]
  },
  {
   "cell_type": "code",
   "execution_count": 11,
   "metadata": {},
   "outputs": [],
   "source": [
    "from datetime import date\n",
    "def used_days(cols):\n",
    "    rd, rm, ry = list(map(int, cols[0].split('-')))\n",
    "    sd, sm, sy = list(map(int, cols[1].split('-')))\n",
    "    d0 = date(ry, rm, rd)\n",
    "    d1 = date(sy, sm, sd)\n",
    "    delta = d1 - d0\n",
    "    return delta.days\n",
    "\n",
    "data['used_days'] = data[['registration_date', 'sold_date']].apply(used_days, axis=1)"
   ]
  },
  {
   "cell_type": "code",
   "execution_count": 14,
   "metadata": {},
   "outputs": [],
   "source": [
    "del data['registration_date']\n",
    "del data['sold_date']"
   ]
  },
  {
   "cell_type": "code",
   "execution_count": 12,
   "metadata": {
    "scrolled": true
   },
   "outputs": [
    {
     "data": {
      "text/html": [
       "<div>\n",
       "<style scoped>\n",
       "    .dataframe tbody tr th:only-of-type {\n",
       "        vertical-align: middle;\n",
       "    }\n",
       "\n",
       "    .dataframe tbody tr th {\n",
       "        vertical-align: top;\n",
       "    }\n",
       "\n",
       "    .dataframe thead th {\n",
       "        text-align: right;\n",
       "    }\n",
       "</style>\n",
       "<table border=\"1\" class=\"dataframe\">\n",
       "  <thead>\n",
       "    <tr style=\"text-align: right;\">\n",
       "      <th></th>\n",
       "      <th>car_company</th>\n",
       "      <th>model_ID</th>\n",
       "      <th>mileage</th>\n",
       "      <th>engine_power</th>\n",
       "      <th>registration_date</th>\n",
       "      <th>fuel</th>\n",
       "      <th>car_paint_color</th>\n",
       "      <th>car_type</th>\n",
       "      <th>feature1</th>\n",
       "      <th>feature2</th>\n",
       "      <th>feature3</th>\n",
       "      <th>feature4</th>\n",
       "      <th>feature5</th>\n",
       "      <th>feature6</th>\n",
       "      <th>feature7</th>\n",
       "      <th>feature8</th>\n",
       "      <th>sold_date</th>\n",
       "      <th>car_price</th>\n",
       "      <th>used_days</th>\n",
       "    </tr>\n",
       "  </thead>\n",
       "  <tbody>\n",
       "    <tr>\n",
       "      <th>0</th>\n",
       "      <td>Edureka_motors</td>\n",
       "      <td>318 Gran Turismo</td>\n",
       "      <td>140245</td>\n",
       "      <td>105</td>\n",
       "      <td>01-10-2014</td>\n",
       "      <td>diesel</td>\n",
       "      <td>white</td>\n",
       "      <td>hatchback</td>\n",
       "      <td>False</td>\n",
       "      <td>True</td>\n",
       "      <td>False</td>\n",
       "      <td>False</td>\n",
       "      <td>True</td>\n",
       "      <td>True</td>\n",
       "      <td>True</td>\n",
       "      <td>True</td>\n",
       "      <td>01-03-2018</td>\n",
       "      <td>19200</td>\n",
       "      <td>1247</td>\n",
       "    </tr>\n",
       "    <tr>\n",
       "      <th>1</th>\n",
       "      <td>Edureka_motors</td>\n",
       "      <td>218 Active Tourer</td>\n",
       "      <td>91512</td>\n",
       "      <td>100</td>\n",
       "      <td>01-06-2015</td>\n",
       "      <td>petrol</td>\n",
       "      <td>white</td>\n",
       "      <td>van</td>\n",
       "      <td>False</td>\n",
       "      <td>True</td>\n",
       "      <td>True</td>\n",
       "      <td>False</td>\n",
       "      <td>False</td>\n",
       "      <td>False</td>\n",
       "      <td>True</td>\n",
       "      <td>False</td>\n",
       "      <td>01-05-2018</td>\n",
       "      <td>14300</td>\n",
       "      <td>1065</td>\n",
       "    </tr>\n",
       "    <tr>\n",
       "      <th>2</th>\n",
       "      <td>Edureka_motors</td>\n",
       "      <td>318</td>\n",
       "      <td>113744</td>\n",
       "      <td>100</td>\n",
       "      <td>01-06-2012</td>\n",
       "      <td>diesel</td>\n",
       "      <td>grey</td>\n",
       "      <td>sedan</td>\n",
       "      <td>True</td>\n",
       "      <td>True</td>\n",
       "      <td>False</td>\n",
       "      <td>False</td>\n",
       "      <td>False</td>\n",
       "      <td>False</td>\n",
       "      <td>True</td>\n",
       "      <td>False</td>\n",
       "      <td>01-06-2018</td>\n",
       "      <td>14300</td>\n",
       "      <td>2191</td>\n",
       "    </tr>\n",
       "    <tr>\n",
       "      <th>3</th>\n",
       "      <td>Edureka_motors</td>\n",
       "      <td>320 Gran Turismo</td>\n",
       "      <td>195063</td>\n",
       "      <td>135</td>\n",
       "      <td>01-05-2014</td>\n",
       "      <td>diesel</td>\n",
       "      <td>black</td>\n",
       "      <td>hatchback</td>\n",
       "      <td>False</td>\n",
       "      <td>True</td>\n",
       "      <td>True</td>\n",
       "      <td>False</td>\n",
       "      <td>True</td>\n",
       "      <td>False</td>\n",
       "      <td>True</td>\n",
       "      <td>True</td>\n",
       "      <td>01-03-2018</td>\n",
       "      <td>16200</td>\n",
       "      <td>1400</td>\n",
       "    </tr>\n",
       "    <tr>\n",
       "      <th>4</th>\n",
       "      <td>Edureka_motors</td>\n",
       "      <td>518</td>\n",
       "      <td>148943</td>\n",
       "      <td>100</td>\n",
       "      <td>01-11-2013</td>\n",
       "      <td>diesel</td>\n",
       "      <td>brown</td>\n",
       "      <td>estate</td>\n",
       "      <td>True</td>\n",
       "      <td>True</td>\n",
       "      <td>True</td>\n",
       "      <td>False</td>\n",
       "      <td>True</td>\n",
       "      <td>False</td>\n",
       "      <td>True</td>\n",
       "      <td>True</td>\n",
       "      <td>01-05-2018</td>\n",
       "      <td>17300</td>\n",
       "      <td>1642</td>\n",
       "    </tr>\n",
       "  </tbody>\n",
       "</table>\n",
       "</div>"
      ],
      "text/plain": [
       "      car_company           model_ID  mileage  engine_power registration_date  \\\n",
       "0  Edureka_motors   318 Gran Turismo   140245           105        01-10-2014   \n",
       "1  Edureka_motors  218 Active Tourer    91512           100        01-06-2015   \n",
       "2  Edureka_motors                318   113744           100        01-06-2012   \n",
       "3  Edureka_motors   320 Gran Turismo   195063           135        01-05-2014   \n",
       "4  Edureka_motors                518   148943           100        01-11-2013   \n",
       "\n",
       "     fuel car_paint_color   car_type  feature1  feature2  feature3  feature4  \\\n",
       "0  diesel           white  hatchback     False      True     False     False   \n",
       "1  petrol           white        van     False      True      True     False   \n",
       "2  diesel            grey      sedan      True      True     False     False   \n",
       "3  diesel           black  hatchback     False      True      True     False   \n",
       "4  diesel           brown     estate      True      True      True     False   \n",
       "\n",
       "   feature5  feature6  feature7  feature8   sold_date  car_price  used_days  \n",
       "0      True      True      True      True  01-03-2018      19200       1247  \n",
       "1     False     False      True     False  01-05-2018      14300       1065  \n",
       "2     False     False      True     False  01-06-2018      14300       2191  \n",
       "3      True     False      True      True  01-03-2018      16200       1400  \n",
       "4      True     False      True      True  01-05-2018      17300       1642  "
      ]
     },
     "execution_count": 12,
     "metadata": {},
     "output_type": "execute_result"
    }
   ],
   "source": [
    "data.head()"
   ]
  },
  {
   "cell_type": "markdown",
   "metadata": {},
   "source": [
    "#### Second, working with Categorical Data(string type data), we can perform \"One_Hot_Encoding\" for variables 'car_company', 'fuel', 'car_type' as shown below"
   ]
  },
  {
   "cell_type": "markdown",
   "metadata": {},
   "source": [
    "finding total number of unique values for features, to perform One_Hot_Encoding"
   ]
  },
  {
   "cell_type": "code",
   "execution_count": 39,
   "metadata": {
    "scrolled": true
   },
   "outputs": [
    {
     "name": "stdout",
     "output_type": "stream",
     "text": [
      "Total unique values for 'fuel' variable = 4\n",
      "Total unique values for 'car_paint_color' variable = 10\n",
      "Total unique values for 'car_type' variable = 8\n"
     ]
    }
   ],
   "source": [
    "print(\"Total unique values for 'fuel' variable = {}\".format(len(data.fuel.unique())))\n",
    "print(\"Total unique values for 'car_paint_color' variable = {}\".format(len(data.car_paint_color.unique())))\n",
    "print(\"Total unique values for 'car_type' variable = {}\".format(len(data.car_type.unique())))\n",
    "#fuel=4, car_paint_color=10, car_type=8"
   ]
  },
  {
   "cell_type": "code",
   "execution_count": 15,
   "metadata": {},
   "outputs": [],
   "source": [
    "dataset = data\n",
    "\n",
    "def encode_and_bind(dataset, col):\n",
    "    encoded = pd.get_dummies(dataset[col])\n",
    "    dataset = pd.concat([dataset, encoded], axis=1)\n",
    "    return dataset\n",
    "\n",
    "#one_hot_cols = ['car_company', 'fuel', 'car_paint_color', 'car_type' ]\n",
    "one_hot_cols = ['car_company', 'fuel', 'car_type' ]\n",
    "for col in one_hot_cols:\n",
    "    dataset = encode_and_bind(dataset, col)\n",
    "    del dataset[col]"
   ]
  },
  {
   "cell_type": "code",
   "execution_count": 16,
   "metadata": {},
   "outputs": [
    {
     "data": {
      "text/html": [
       "<div>\n",
       "<style scoped>\n",
       "    .dataframe tbody tr th:only-of-type {\n",
       "        vertical-align: middle;\n",
       "    }\n",
       "\n",
       "    .dataframe tbody tr th {\n",
       "        vertical-align: top;\n",
       "    }\n",
       "\n",
       "    .dataframe thead th {\n",
       "        text-align: right;\n",
       "    }\n",
       "</style>\n",
       "<table border=\"1\" class=\"dataframe\">\n",
       "  <thead>\n",
       "    <tr style=\"text-align: right;\">\n",
       "      <th></th>\n",
       "      <th>model_ID</th>\n",
       "      <th>mileage</th>\n",
       "      <th>engine_power</th>\n",
       "      <th>car_paint_color</th>\n",
       "      <th>feature1</th>\n",
       "      <th>feature2</th>\n",
       "      <th>feature3</th>\n",
       "      <th>feature4</th>\n",
       "      <th>feature5</th>\n",
       "      <th>feature6</th>\n",
       "      <th>...</th>\n",
       "      <th>hybrid_petrol</th>\n",
       "      <th>petrol</th>\n",
       "      <th>convertible</th>\n",
       "      <th>coupe</th>\n",
       "      <th>estate</th>\n",
       "      <th>hatchback</th>\n",
       "      <th>sedan</th>\n",
       "      <th>subcompact</th>\n",
       "      <th>suv</th>\n",
       "      <th>van</th>\n",
       "    </tr>\n",
       "  </thead>\n",
       "  <tbody>\n",
       "    <tr>\n",
       "      <th>0</th>\n",
       "      <td>318 Gran Turismo</td>\n",
       "      <td>140245</td>\n",
       "      <td>105</td>\n",
       "      <td>white</td>\n",
       "      <td>False</td>\n",
       "      <td>True</td>\n",
       "      <td>False</td>\n",
       "      <td>False</td>\n",
       "      <td>True</td>\n",
       "      <td>True</td>\n",
       "      <td>...</td>\n",
       "      <td>0</td>\n",
       "      <td>0</td>\n",
       "      <td>0</td>\n",
       "      <td>0</td>\n",
       "      <td>0</td>\n",
       "      <td>1</td>\n",
       "      <td>0</td>\n",
       "      <td>0</td>\n",
       "      <td>0</td>\n",
       "      <td>0</td>\n",
       "    </tr>\n",
       "    <tr>\n",
       "      <th>1</th>\n",
       "      <td>218 Active Tourer</td>\n",
       "      <td>91512</td>\n",
       "      <td>100</td>\n",
       "      <td>white</td>\n",
       "      <td>False</td>\n",
       "      <td>True</td>\n",
       "      <td>True</td>\n",
       "      <td>False</td>\n",
       "      <td>False</td>\n",
       "      <td>False</td>\n",
       "      <td>...</td>\n",
       "      <td>0</td>\n",
       "      <td>1</td>\n",
       "      <td>0</td>\n",
       "      <td>0</td>\n",
       "      <td>0</td>\n",
       "      <td>0</td>\n",
       "      <td>0</td>\n",
       "      <td>0</td>\n",
       "      <td>0</td>\n",
       "      <td>1</td>\n",
       "    </tr>\n",
       "    <tr>\n",
       "      <th>2</th>\n",
       "      <td>318</td>\n",
       "      <td>113744</td>\n",
       "      <td>100</td>\n",
       "      <td>grey</td>\n",
       "      <td>True</td>\n",
       "      <td>True</td>\n",
       "      <td>False</td>\n",
       "      <td>False</td>\n",
       "      <td>False</td>\n",
       "      <td>False</td>\n",
       "      <td>...</td>\n",
       "      <td>0</td>\n",
       "      <td>0</td>\n",
       "      <td>0</td>\n",
       "      <td>0</td>\n",
       "      <td>0</td>\n",
       "      <td>0</td>\n",
       "      <td>1</td>\n",
       "      <td>0</td>\n",
       "      <td>0</td>\n",
       "      <td>0</td>\n",
       "    </tr>\n",
       "    <tr>\n",
       "      <th>3</th>\n",
       "      <td>320 Gran Turismo</td>\n",
       "      <td>195063</td>\n",
       "      <td>135</td>\n",
       "      <td>black</td>\n",
       "      <td>False</td>\n",
       "      <td>True</td>\n",
       "      <td>True</td>\n",
       "      <td>False</td>\n",
       "      <td>True</td>\n",
       "      <td>False</td>\n",
       "      <td>...</td>\n",
       "      <td>0</td>\n",
       "      <td>0</td>\n",
       "      <td>0</td>\n",
       "      <td>0</td>\n",
       "      <td>0</td>\n",
       "      <td>1</td>\n",
       "      <td>0</td>\n",
       "      <td>0</td>\n",
       "      <td>0</td>\n",
       "      <td>0</td>\n",
       "    </tr>\n",
       "    <tr>\n",
       "      <th>4</th>\n",
       "      <td>518</td>\n",
       "      <td>148943</td>\n",
       "      <td>100</td>\n",
       "      <td>brown</td>\n",
       "      <td>True</td>\n",
       "      <td>True</td>\n",
       "      <td>True</td>\n",
       "      <td>False</td>\n",
       "      <td>True</td>\n",
       "      <td>False</td>\n",
       "      <td>...</td>\n",
       "      <td>0</td>\n",
       "      <td>0</td>\n",
       "      <td>0</td>\n",
       "      <td>0</td>\n",
       "      <td>1</td>\n",
       "      <td>0</td>\n",
       "      <td>0</td>\n",
       "      <td>0</td>\n",
       "      <td>0</td>\n",
       "      <td>0</td>\n",
       "    </tr>\n",
       "  </tbody>\n",
       "</table>\n",
       "<p>5 rows × 27 columns</p>\n",
       "</div>"
      ],
      "text/plain": [
       "            model_ID  mileage  engine_power car_paint_color  feature1  \\\n",
       "0   318 Gran Turismo   140245           105           white     False   \n",
       "1  218 Active Tourer    91512           100           white     False   \n",
       "2                318   113744           100            grey      True   \n",
       "3   320 Gran Turismo   195063           135           black     False   \n",
       "4                518   148943           100           brown      True   \n",
       "\n",
       "   feature2  feature3  feature4  feature5  feature6  ...  hybrid_petrol  \\\n",
       "0      True     False     False      True      True  ...              0   \n",
       "1      True      True     False     False     False  ...              0   \n",
       "2      True     False     False     False     False  ...              0   \n",
       "3      True      True     False      True     False  ...              0   \n",
       "4      True      True     False      True     False  ...              0   \n",
       "\n",
       "   petrol  convertible  coupe  estate  hatchback  sedan  subcompact  suv  van  \n",
       "0       0            0      0       0          1      0           0    0    0  \n",
       "1       1            0      0       0          0      0           0    0    1  \n",
       "2       0            0      0       0          0      1           0    0    0  \n",
       "3       0            0      0       0          1      0           0    0    0  \n",
       "4       0            0      0       1          0      0           0    0    0  \n",
       "\n",
       "[5 rows x 27 columns]"
      ]
     },
     "execution_count": 16,
     "metadata": {},
     "output_type": "execute_result"
    }
   ],
   "source": [
    "dataset.head()"
   ]
  },
  {
   "cell_type": "markdown",
   "metadata": {},
   "source": [
    "#### Now, we perform Label_Encoding for \"model_ID\" and \"car_paint_color\" as shown below"
   ]
  },
  {
   "cell_type": "code",
   "execution_count": 17,
   "metadata": {},
   "outputs": [
    {
     "data": {
      "text/plain": [
       "72"
      ]
     },
     "execution_count": 17,
     "metadata": {},
     "output_type": "execute_result"
    }
   ],
   "source": [
    "len(dataset.model_ID.unique())"
   ]
  },
  {
   "cell_type": "code",
   "execution_count": 18,
   "metadata": {},
   "outputs": [],
   "source": [
    "from sklearn import preprocessing \n",
    "  \n",
    "# label_encoder object knows how to understand word labels. \n",
    "label_encoder = preprocessing.LabelEncoder() \n",
    "  \n",
    "# Encode labels in column. \n",
    "dataset['model_ID']= label_encoder.fit_transform(dataset['model_ID'])\n",
    "\n",
    "dataset['car_paint_color']= label_encoder.fit_transform(dataset['car_paint_color'])\n",
    "  \n",
    "#dataset['model_ID'].unique() "
   ]
  },
  {
   "cell_type": "code",
   "execution_count": 19,
   "metadata": {},
   "outputs": [
    {
     "data": {
      "text/html": [
       "<div>\n",
       "<style scoped>\n",
       "    .dataframe tbody tr th:only-of-type {\n",
       "        vertical-align: middle;\n",
       "    }\n",
       "\n",
       "    .dataframe tbody tr th {\n",
       "        vertical-align: top;\n",
       "    }\n",
       "\n",
       "    .dataframe thead th {\n",
       "        text-align: right;\n",
       "    }\n",
       "</style>\n",
       "<table border=\"1\" class=\"dataframe\">\n",
       "  <thead>\n",
       "    <tr style=\"text-align: right;\">\n",
       "      <th></th>\n",
       "      <th>model_ID</th>\n",
       "      <th>mileage</th>\n",
       "      <th>engine_power</th>\n",
       "      <th>car_paint_color</th>\n",
       "      <th>feature1</th>\n",
       "      <th>feature2</th>\n",
       "      <th>feature3</th>\n",
       "      <th>feature4</th>\n",
       "      <th>feature5</th>\n",
       "      <th>feature6</th>\n",
       "      <th>...</th>\n",
       "      <th>hybrid_petrol</th>\n",
       "      <th>petrol</th>\n",
       "      <th>convertible</th>\n",
       "      <th>coupe</th>\n",
       "      <th>estate</th>\n",
       "      <th>hatchback</th>\n",
       "      <th>sedan</th>\n",
       "      <th>subcompact</th>\n",
       "      <th>suv</th>\n",
       "      <th>van</th>\n",
       "    </tr>\n",
       "  </thead>\n",
       "  <tbody>\n",
       "    <tr>\n",
       "      <th>0</th>\n",
       "      <td>20</td>\n",
       "      <td>140245</td>\n",
       "      <td>105</td>\n",
       "      <td>9</td>\n",
       "      <td>False</td>\n",
       "      <td>True</td>\n",
       "      <td>False</td>\n",
       "      <td>False</td>\n",
       "      <td>True</td>\n",
       "      <td>True</td>\n",
       "      <td>...</td>\n",
       "      <td>0</td>\n",
       "      <td>0</td>\n",
       "      <td>0</td>\n",
       "      <td>0</td>\n",
       "      <td>0</td>\n",
       "      <td>1</td>\n",
       "      <td>0</td>\n",
       "      <td>0</td>\n",
       "      <td>0</td>\n",
       "      <td>0</td>\n",
       "    </tr>\n",
       "    <tr>\n",
       "      <th>1</th>\n",
       "      <td>12</td>\n",
       "      <td>91512</td>\n",
       "      <td>100</td>\n",
       "      <td>9</td>\n",
       "      <td>False</td>\n",
       "      <td>True</td>\n",
       "      <td>True</td>\n",
       "      <td>False</td>\n",
       "      <td>False</td>\n",
       "      <td>False</td>\n",
       "      <td>...</td>\n",
       "      <td>0</td>\n",
       "      <td>1</td>\n",
       "      <td>0</td>\n",
       "      <td>0</td>\n",
       "      <td>0</td>\n",
       "      <td>0</td>\n",
       "      <td>0</td>\n",
       "      <td>0</td>\n",
       "      <td>0</td>\n",
       "      <td>1</td>\n",
       "    </tr>\n",
       "    <tr>\n",
       "      <th>2</th>\n",
       "      <td>19</td>\n",
       "      <td>113744</td>\n",
       "      <td>100</td>\n",
       "      <td>5</td>\n",
       "      <td>True</td>\n",
       "      <td>True</td>\n",
       "      <td>False</td>\n",
       "      <td>False</td>\n",
       "      <td>False</td>\n",
       "      <td>False</td>\n",
       "      <td>...</td>\n",
       "      <td>0</td>\n",
       "      <td>0</td>\n",
       "      <td>0</td>\n",
       "      <td>0</td>\n",
       "      <td>0</td>\n",
       "      <td>0</td>\n",
       "      <td>1</td>\n",
       "      <td>0</td>\n",
       "      <td>0</td>\n",
       "      <td>0</td>\n",
       "    </tr>\n",
       "    <tr>\n",
       "      <th>3</th>\n",
       "      <td>22</td>\n",
       "      <td>195063</td>\n",
       "      <td>135</td>\n",
       "      <td>1</td>\n",
       "      <td>False</td>\n",
       "      <td>True</td>\n",
       "      <td>True</td>\n",
       "      <td>False</td>\n",
       "      <td>True</td>\n",
       "      <td>False</td>\n",
       "      <td>...</td>\n",
       "      <td>0</td>\n",
       "      <td>0</td>\n",
       "      <td>0</td>\n",
       "      <td>0</td>\n",
       "      <td>0</td>\n",
       "      <td>1</td>\n",
       "      <td>0</td>\n",
       "      <td>0</td>\n",
       "      <td>0</td>\n",
       "      <td>0</td>\n",
       "    </tr>\n",
       "    <tr>\n",
       "      <th>4</th>\n",
       "      <td>38</td>\n",
       "      <td>148943</td>\n",
       "      <td>100</td>\n",
       "      <td>3</td>\n",
       "      <td>True</td>\n",
       "      <td>True</td>\n",
       "      <td>True</td>\n",
       "      <td>False</td>\n",
       "      <td>True</td>\n",
       "      <td>False</td>\n",
       "      <td>...</td>\n",
       "      <td>0</td>\n",
       "      <td>0</td>\n",
       "      <td>0</td>\n",
       "      <td>0</td>\n",
       "      <td>1</td>\n",
       "      <td>0</td>\n",
       "      <td>0</td>\n",
       "      <td>0</td>\n",
       "      <td>0</td>\n",
       "      <td>0</td>\n",
       "    </tr>\n",
       "  </tbody>\n",
       "</table>\n",
       "<p>5 rows × 27 columns</p>\n",
       "</div>"
      ],
      "text/plain": [
       "   model_ID  mileage  engine_power  car_paint_color  feature1  feature2  \\\n",
       "0        20   140245           105                9     False      True   \n",
       "1        12    91512           100                9     False      True   \n",
       "2        19   113744           100                5      True      True   \n",
       "3        22   195063           135                1     False      True   \n",
       "4        38   148943           100                3      True      True   \n",
       "\n",
       "   feature3  feature4  feature5  feature6  ...  hybrid_petrol  petrol  \\\n",
       "0     False     False      True      True  ...              0       0   \n",
       "1      True     False     False     False  ...              0       1   \n",
       "2     False     False     False     False  ...              0       0   \n",
       "3      True     False      True     False  ...              0       0   \n",
       "4      True     False      True     False  ...              0       0   \n",
       "\n",
       "   convertible  coupe  estate  hatchback  sedan  subcompact  suv  van  \n",
       "0            0      0       0          1      0           0    0    0  \n",
       "1            0      0       0          0      0           0    0    1  \n",
       "2            0      0       0          0      1           0    0    0  \n",
       "3            0      0       0          1      0           0    0    0  \n",
       "4            0      0       1          0      0           0    0    0  \n",
       "\n",
       "[5 rows x 27 columns]"
      ]
     },
     "execution_count": 19,
     "metadata": {},
     "output_type": "execute_result"
    }
   ],
   "source": [
    "dataset.head()"
   ]
  },
  {
   "cell_type": "code",
   "execution_count": 20,
   "metadata": {},
   "outputs": [
    {
     "data": {
      "text/plain": [
       "Index(['model_ID', 'mileage', 'engine_power', 'car_paint_color', 'feature1',\n",
       "       'feature2', 'feature3', 'feature4', 'feature5', 'feature6', 'feature7',\n",
       "       'feature8', 'car_price', 'used_days', 'Edureka_motors', 'diesel',\n",
       "       'electro', 'hybrid_petrol', 'petrol', 'convertible', 'coupe', 'estate',\n",
       "       'hatchback', 'sedan', 'subcompact', 'suv', 'van'],\n",
       "      dtype='object')"
      ]
     },
     "execution_count": 20,
     "metadata": {},
     "output_type": "execute_result"
    }
   ],
   "source": [
    "dataset.columns"
   ]
  },
  {
   "cell_type": "markdown",
   "metadata": {},
   "source": [
    "#### Converting bool to int type"
   ]
  },
  {
   "cell_type": "code",
   "execution_count": 21,
   "metadata": {},
   "outputs": [],
   "source": [
    "def TFto01(cols):\n",
    "    if cols[0]:\n",
    "        return 1\n",
    "    return 0\n",
    "TF_cols = ['feature1', 'feature2','feature3', 'feature4', 'feature5', 'feature6', 'feature7', 'feature8']\n",
    "for col in TF_cols:\n",
    "    dataset[col] = dataset[[col]].apply(TFto01, axis = 1)"
   ]
  },
  {
   "cell_type": "code",
   "execution_count": 22,
   "metadata": {},
   "outputs": [
    {
     "data": {
      "text/html": [
       "<div>\n",
       "<style scoped>\n",
       "    .dataframe tbody tr th:only-of-type {\n",
       "        vertical-align: middle;\n",
       "    }\n",
       "\n",
       "    .dataframe tbody tr th {\n",
       "        vertical-align: top;\n",
       "    }\n",
       "\n",
       "    .dataframe thead th {\n",
       "        text-align: right;\n",
       "    }\n",
       "</style>\n",
       "<table border=\"1\" class=\"dataframe\">\n",
       "  <thead>\n",
       "    <tr style=\"text-align: right;\">\n",
       "      <th></th>\n",
       "      <th>model_ID</th>\n",
       "      <th>mileage</th>\n",
       "      <th>engine_power</th>\n",
       "      <th>car_paint_color</th>\n",
       "      <th>feature1</th>\n",
       "      <th>feature2</th>\n",
       "      <th>feature3</th>\n",
       "      <th>feature4</th>\n",
       "      <th>feature5</th>\n",
       "      <th>feature6</th>\n",
       "      <th>...</th>\n",
       "      <th>hybrid_petrol</th>\n",
       "      <th>petrol</th>\n",
       "      <th>convertible</th>\n",
       "      <th>coupe</th>\n",
       "      <th>estate</th>\n",
       "      <th>hatchback</th>\n",
       "      <th>sedan</th>\n",
       "      <th>subcompact</th>\n",
       "      <th>suv</th>\n",
       "      <th>van</th>\n",
       "    </tr>\n",
       "  </thead>\n",
       "  <tbody>\n",
       "    <tr>\n",
       "      <th>0</th>\n",
       "      <td>20</td>\n",
       "      <td>140245</td>\n",
       "      <td>105</td>\n",
       "      <td>9</td>\n",
       "      <td>0</td>\n",
       "      <td>1</td>\n",
       "      <td>0</td>\n",
       "      <td>0</td>\n",
       "      <td>1</td>\n",
       "      <td>1</td>\n",
       "      <td>...</td>\n",
       "      <td>0</td>\n",
       "      <td>0</td>\n",
       "      <td>0</td>\n",
       "      <td>0</td>\n",
       "      <td>0</td>\n",
       "      <td>1</td>\n",
       "      <td>0</td>\n",
       "      <td>0</td>\n",
       "      <td>0</td>\n",
       "      <td>0</td>\n",
       "    </tr>\n",
       "    <tr>\n",
       "      <th>1</th>\n",
       "      <td>12</td>\n",
       "      <td>91512</td>\n",
       "      <td>100</td>\n",
       "      <td>9</td>\n",
       "      <td>0</td>\n",
       "      <td>1</td>\n",
       "      <td>1</td>\n",
       "      <td>0</td>\n",
       "      <td>0</td>\n",
       "      <td>0</td>\n",
       "      <td>...</td>\n",
       "      <td>0</td>\n",
       "      <td>1</td>\n",
       "      <td>0</td>\n",
       "      <td>0</td>\n",
       "      <td>0</td>\n",
       "      <td>0</td>\n",
       "      <td>0</td>\n",
       "      <td>0</td>\n",
       "      <td>0</td>\n",
       "      <td>1</td>\n",
       "    </tr>\n",
       "    <tr>\n",
       "      <th>2</th>\n",
       "      <td>19</td>\n",
       "      <td>113744</td>\n",
       "      <td>100</td>\n",
       "      <td>5</td>\n",
       "      <td>1</td>\n",
       "      <td>1</td>\n",
       "      <td>0</td>\n",
       "      <td>0</td>\n",
       "      <td>0</td>\n",
       "      <td>0</td>\n",
       "      <td>...</td>\n",
       "      <td>0</td>\n",
       "      <td>0</td>\n",
       "      <td>0</td>\n",
       "      <td>0</td>\n",
       "      <td>0</td>\n",
       "      <td>0</td>\n",
       "      <td>1</td>\n",
       "      <td>0</td>\n",
       "      <td>0</td>\n",
       "      <td>0</td>\n",
       "    </tr>\n",
       "    <tr>\n",
       "      <th>3</th>\n",
       "      <td>22</td>\n",
       "      <td>195063</td>\n",
       "      <td>135</td>\n",
       "      <td>1</td>\n",
       "      <td>0</td>\n",
       "      <td>1</td>\n",
       "      <td>1</td>\n",
       "      <td>0</td>\n",
       "      <td>1</td>\n",
       "      <td>0</td>\n",
       "      <td>...</td>\n",
       "      <td>0</td>\n",
       "      <td>0</td>\n",
       "      <td>0</td>\n",
       "      <td>0</td>\n",
       "      <td>0</td>\n",
       "      <td>1</td>\n",
       "      <td>0</td>\n",
       "      <td>0</td>\n",
       "      <td>0</td>\n",
       "      <td>0</td>\n",
       "    </tr>\n",
       "    <tr>\n",
       "      <th>4</th>\n",
       "      <td>38</td>\n",
       "      <td>148943</td>\n",
       "      <td>100</td>\n",
       "      <td>3</td>\n",
       "      <td>1</td>\n",
       "      <td>1</td>\n",
       "      <td>1</td>\n",
       "      <td>0</td>\n",
       "      <td>1</td>\n",
       "      <td>0</td>\n",
       "      <td>...</td>\n",
       "      <td>0</td>\n",
       "      <td>0</td>\n",
       "      <td>0</td>\n",
       "      <td>0</td>\n",
       "      <td>1</td>\n",
       "      <td>0</td>\n",
       "      <td>0</td>\n",
       "      <td>0</td>\n",
       "      <td>0</td>\n",
       "      <td>0</td>\n",
       "    </tr>\n",
       "  </tbody>\n",
       "</table>\n",
       "<p>5 rows × 27 columns</p>\n",
       "</div>"
      ],
      "text/plain": [
       "   model_ID  mileage  engine_power  car_paint_color  feature1  feature2  \\\n",
       "0        20   140245           105                9         0         1   \n",
       "1        12    91512           100                9         0         1   \n",
       "2        19   113744           100                5         1         1   \n",
       "3        22   195063           135                1         0         1   \n",
       "4        38   148943           100                3         1         1   \n",
       "\n",
       "   feature3  feature4  feature5  feature6  ...  hybrid_petrol  petrol  \\\n",
       "0         0         0         1         1  ...              0       0   \n",
       "1         1         0         0         0  ...              0       1   \n",
       "2         0         0         0         0  ...              0       0   \n",
       "3         1         0         1         0  ...              0       0   \n",
       "4         1         0         1         0  ...              0       0   \n",
       "\n",
       "   convertible  coupe  estate  hatchback  sedan  subcompact  suv  van  \n",
       "0            0      0       0          1      0           0    0    0  \n",
       "1            0      0       0          0      0           0    0    1  \n",
       "2            0      0       0          0      1           0    0    0  \n",
       "3            0      0       0          1      0           0    0    0  \n",
       "4            0      0       1          0      0           0    0    0  \n",
       "\n",
       "[5 rows x 27 columns]"
      ]
     },
     "execution_count": 22,
     "metadata": {},
     "output_type": "execute_result"
    }
   ],
   "source": [
    "dataset.head()"
   ]
  },
  {
   "cell_type": "code",
   "execution_count": 23,
   "metadata": {},
   "outputs": [
    {
     "name": "stdout",
     "output_type": "stream",
     "text": [
      "<class 'pandas.core.frame.DataFrame'>\n",
      "RangeIndex: 3390 entries, 0 to 3389\n",
      "Data columns (total 27 columns):\n",
      "model_ID           3390 non-null int64\n",
      "mileage            3390 non-null int64\n",
      "engine_power       3390 non-null int64\n",
      "car_paint_color    3390 non-null int64\n",
      "feature1           3390 non-null int64\n",
      "feature2           3390 non-null int64\n",
      "feature3           3390 non-null int64\n",
      "feature4           3390 non-null int64\n",
      "feature5           3390 non-null int64\n",
      "feature6           3390 non-null int64\n",
      "feature7           3390 non-null int64\n",
      "feature8           3390 non-null int64\n",
      "car_price          3390 non-null int64\n",
      "used_days          3390 non-null int64\n",
      "Edureka_motors     3390 non-null uint8\n",
      "diesel             3390 non-null uint8\n",
      "electro            3390 non-null uint8\n",
      "hybrid_petrol      3390 non-null uint8\n",
      "petrol             3390 non-null uint8\n",
      "convertible        3390 non-null uint8\n",
      "coupe              3390 non-null uint8\n",
      "estate             3390 non-null uint8\n",
      "hatchback          3390 non-null uint8\n",
      "sedan              3390 non-null uint8\n",
      "subcompact         3390 non-null uint8\n",
      "suv                3390 non-null uint8\n",
      "van                3390 non-null uint8\n",
      "dtypes: int64(14), uint8(13)\n",
      "memory usage: 413.9 KB\n"
     ]
    }
   ],
   "source": [
    "dataset.info()"
   ]
  },
  {
   "cell_type": "code",
   "execution_count": 24,
   "metadata": {},
   "outputs": [
    {
     "data": {
      "image/png": "[encoded data removed]",
      "text/plain": [
       "<Figure size 864x720 with 2 Axes>"
      ]
     },
     "metadata": {
      "needs_background": "light"
     },
     "output_type": "display_data"
    }
   ],
   "source": [
    "del dataset['Edureka_motors']\n",
    "\n",
    "fig = plt.figure(figsize = (12, 10))\n",
    "sns.heatmap(dataset.corr())\n",
    "plt.show()"
   ]
  },
  {
   "cell_type": "markdown",
   "metadata": {},
   "source": [
    "#### Histograms for visualising values for all the feature Variables."
   ]
  },
  {
   "cell_type": "code",
   "execution_count": 25,
   "metadata": {},
   "outputs": [
    {
     "data": {
      "image/png": "[encoded data removed]",
      "text/plain": [
       "<Figure size 1080x1080 with 30 Axes>"
      ]
     },
     "metadata": {
      "needs_background": "light"
     },
     "output_type": "display_data"
    }
   ],
   "source": [
    "dataset.hist(figsize = (15, 15))\n",
    "plt.show()"
   ]
  },
  {
   "cell_type": "markdown",
   "metadata": {},
   "source": [
    "#### Now our data is ready to feed it to Machine Learning Model\n",
    "\n",
    "### Since we need to predict Car_Price for given input, it is a continuous data prediction hence we can use \"Supervised Learning\",  So \"Multiple Regression Machine Learning Model\" should be fine."
   ]
  },
  {
   "cell_type": "markdown",
   "metadata": {},
   "source": [
    "### 6.Seperating Data into Train set for training ML model, and test set for testing our trained model"
   ]
  },
  {
   "cell_type": "code",
   "execution_count": 26,
   "metadata": {},
   "outputs": [],
   "source": [
    "#seperate data into train and test\n",
    "from sklearn.model_selection import train_test_split\n",
    "y = dataset['car_price']\n",
    "X = dataset.drop('car_price', axis=1)\n",
    "\n",
    "X_train, X_test, y_train, y_test = train_test_split(X, y, test_size = 0.4, random_state=0)"
   ]
  },
  {
   "cell_type": "markdown",
   "metadata": {},
   "source": [
    "#### Using sklearn Library for Linear Regression Model"
   ]
  },
  {
   "cell_type": "code",
   "execution_count": 31,
   "metadata": {},
   "outputs": [
    {
     "data": {
      "text/plain": [
       "LinearRegression(copy_X=True, fit_intercept=True, n_jobs=None,\n",
       "         normalize=False)"
      ]
     },
     "execution_count": 31,
     "metadata": {},
     "output_type": "execute_result"
    }
   ],
   "source": [
    "# Fitting multiple linear regression to the training set\n",
    "from sklearn.linear_model  import LinearRegression\n",
    "regressor = LinearRegression()\n",
    "regressor.fit(X_train, y_train)"
   ]
  },
  {
   "cell_type": "markdown",
   "metadata": {},
   "source": [
    "#### Now, after traing our regressor ML model, we can use it for prediction on test set"
   ]
  },
  {
   "cell_type": "code",
   "execution_count": 32,
   "metadata": {},
   "outputs": [],
   "source": [
    "# Predicting the Test set results\n",
    "y_pred = regressor.predict(X_test)"
   ]
  },
  {
   "cell_type": "markdown",
   "metadata": {},
   "source": [
    "### R2 Score for the trained Regressor Model"
   ]
  },
  {
   "cell_type": "code",
   "execution_count": 35,
   "metadata": {},
   "outputs": [
    {
     "name": "stdout",
     "output_type": "stream",
     "text": [
      "r2_score = 0.664052586764899\n"
     ]
    }
   ],
   "source": [
    "from sklearn.metrics import r2_score\n",
    "score = r2_score(y_test, y_pred)\n",
    "\n",
    "print(\"r2_score = {}\".format(score))"
   ]
  },
  {
   "cell_type": "markdown",
   "metadata": {},
   "source": [
    "### 7.Summary of the Model"
   ]
  },
  {
   "cell_type": "code",
   "execution_count": 30,
   "metadata": {},
   "outputs": [
    {
     "name": "stdout",
     "output_type": "stream",
     "text": [
      "                            OLS Regression Results                            \n",
      "==============================================================================\n",
      "Dep. Variable:              car_price   R-squared:                       0.654\n",
      "Model:                            OLS   Adj. R-squared:                  0.652\n",
      "Method:                 Least Squares   F-statistic:                     276.7\n",
      "Date:                Fri, 02 Aug 2019   Prob (F-statistic):               0.00\n",
      "Time:                        10:02:12   Log-Likelihood:                -34040.\n",
      "No. Observations:                3390   AIC:                         6.813e+04\n",
      "Df Residuals:                    3366   BIC:                         6.827e+04\n",
      "Df Model:                          23                                         \n",
      "Covariance Type:            nonrobust                                         \n",
      "===================================================================================\n",
      "                      coef    std err          t      P>|t|      [0.025      0.975]\n",
      "-----------------------------------------------------------------------------------\n",
      "const            7379.2585    896.427      8.232      0.000    5621.662    9136.855\n",
      "model_ID           68.4260     11.915      5.743      0.000      45.065      91.787\n",
      "mileage            -0.0333      0.002    -17.332      0.000      -0.037      -0.030\n",
      "engine_power       96.0509      3.693     26.009      0.000      88.810     103.292\n",
      "car_paint_color    36.8018     34.176      1.077      0.282     -30.207     103.810\n",
      "feature1         1168.9112    226.836      5.153      0.000     724.160    1613.662\n",
      "feature2          627.3424    288.078      2.178      0.029      62.516    1192.169\n",
      "feature3         1151.9936    258.839      4.451      0.000     644.496    1659.491\n",
      "feature4         1449.0255    316.647      4.576      0.000     828.186    2069.865\n",
      "feature5         -561.0624    227.067     -2.471      0.014   -1006.265    -115.860\n",
      "feature6          912.7722    241.514      3.779      0.000     439.243    1386.302\n",
      "feature7         1069.9632    442.840      2.416      0.016     201.701    1938.225\n",
      "feature8         1601.5442    238.633      6.711      0.000    1133.664    2069.424\n",
      "used_days          -2.7431      0.137    -20.089      0.000      -3.011      -2.475\n",
      "diesel            231.8467    852.890      0.272      0.786   -1440.388    1904.081\n",
      "electro          1163.0155   2669.235      0.436      0.663   -4070.470    6396.501\n",
      "hybrid_petrol    6777.5036   1943.787      3.487      0.000    2966.381    1.06e+04\n",
      "petrol           -793.1072    947.901     -0.837      0.403   -2651.627    1065.413\n",
      "convertible      3061.7506    923.643      3.315      0.001    1250.793    4872.708\n",
      "coupe            2188.8901    637.206      3.435      0.001     939.540    3438.240\n",
      "estate          -1287.9601    284.737     -4.523      0.000   -1846.234    -729.686\n",
      "hatchback         928.8439    323.448      2.872      0.004     294.670    1563.018\n",
      "sedan             875.3236    298.997      2.928      0.003     289.090    1461.558\n",
      "subcompact       1824.3946    625.419      2.917      0.004     598.154    3050.635\n",
      "suv               775.3596    529.569      1.464      0.143    -262.950    1813.670\n",
      "van              -987.3438    864.173     -1.143      0.253   -2681.702     707.014\n",
      "==============================================================================\n",
      "Omnibus:                     5532.369   Durbin-Watson:                   2.048\n",
      "Prob(Omnibus):                  0.000   Jarque-Bera (JB):          9493401.749\n",
      "Skew:                          10.236   Prob(JB):                         0.00\n",
      "Kurtosis:                     261.439   Cond. No.                     4.30e+17\n",
      "==============================================================================\n",
      "\n",
      "Warnings:\n",
      "[1] Standard Errors assume that the covariance matrix of the errors is correctly specified.\n",
      "[2] The smallest eigenvalue is 4.37e-22. This might indicate that there are\n",
      "strong multicollinearity problems or that the design matrix is singular.\n"
     ]
    },
    {
     "name": "stderr",
     "output_type": "stream",
     "text": [
      "/home/vdhage/.local/lib/python3.6/site-packages/numpy/core/fromnumeric.py:2495: FutureWarning: Method .ptp is deprecated and will be removed in a future version. Use numpy.ptp instead.\n",
      "  return ptp(axis=axis, out=out, **kwargs)\n"
     ]
    }
   ],
   "source": [
    "import statsmodels.api as sm\n",
    "\n",
    "x = sm.add_constant(X) # adding a constant\n",
    " \n",
    "model = sm.OLS(y, x).fit()\n",
    "predictions = model.predict(x) \n",
    " \n",
    "print_model = model.summary()\n",
    "print(print_model)"
   ]
  },
  {
   "cell_type": "markdown",
   "metadata": {},
   "source": [
    "### Below cells take test.csv file for making predictions and stores predictions as result.csv file"
   ]
  },
  {
   "cell_type": "code",
   "execution_count": null,
   "metadata": {},
   "outputs": [],
   "source": [
    "test = pd.read_csv('test.csv')"
   ]
  },
  {
   "cell_type": "code",
   "execution_count": null,
   "metadata": {},
   "outputs": [],
   "source": [
    "test['used_days'] = test[['registration_date', 'sold_date']].apply(used_days, axis=1)"
   ]
  },
  {
   "cell_type": "code",
   "execution_count": null,
   "metadata": {},
   "outputs": [],
   "source": [
    "one_hot_cols = ['car_company', 'fuel', 'car_type' ]\n",
    "for col in one_hot_cols:\n",
    "    test = encode_and_bind(test, col)\n",
    "    del test[col]\n",
    "    \n",
    "del test['Edureka_motors']"
   ]
  },
  {
   "cell_type": "code",
   "execution_count": null,
   "metadata": {},
   "outputs": [],
   "source": [
    "test['model_ID']= label_encoder.fit_transform(test['model_ID'])\n",
    "\n",
    "test['car_paint_color']= label_encoder.fit_transform(test['car_paint_color'])"
   ]
  },
  {
   "cell_type": "code",
   "execution_count": null,
   "metadata": {},
   "outputs": [],
   "source": [
    "TF_cols = ['feature1', 'feature2','feature3', 'feature4', 'feature5', 'feature6', 'feature7', 'feature8']\n",
    "for col in TF_cols:\n",
    "    test[col] = test[[col]].apply(TFto01, axis = 1)"
   ]
  },
  {
   "cell_type": "code",
   "execution_count": null,
   "metadata": {},
   "outputs": [],
   "source": [
    "pred = regressor.predict(test)"
   ]
  },
  {
   "cell_type": "code",
   "execution_count": null,
   "metadata": {},
   "outputs": [],
   "source": [
    "result = pd.DataFrame({'car_price': pred})\n",
    "result.to_csv('result.csv', index=False)"
   ]
  }
 ],
 "metadata": {
  "kernelspec": {
   "display_name": "Python 3",
   "language": "python",
   "name": "python3"
  },
  "language_info": {
   "codemirror_mode": {
    "name": "ipython",
    "version": 3
   },
   "file_extension": ".py",
   "mimetype": "text/x-python",
   "name": "python",
   "nbconvert_exporter": "python",
   "pygments_lexer": "ipython3",
   "version": "3.6.7"
  }
 },
 "nbformat": 4,
 "nbformat_minor": 2
}
